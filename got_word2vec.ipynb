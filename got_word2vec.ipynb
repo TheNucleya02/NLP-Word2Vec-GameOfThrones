{
  "cells": [
    {
      "cell_type": "code",
      "metadata": {
        "colab": {
          "base_uri": "https://localhost:8080/",
          "height": 660
        },
        "collapsed": true,
        "id": "2bf1cc41",
        "outputId": "770d9309-e251-486e-f3e3-5abef7840dd6"
      },
      "source": [
        "!pip uninstall -y numpy scipy gensim\n",
        "!pip install gensim"
      ],
      "id": "2bf1cc41",
      "execution_count": 1,
      "outputs": [
        {
          "output_type": "stream",
          "name": "stdout",
          "text": [
            "Found existing installation: numpy 1.26.4\n",
            "Uninstalling numpy-1.26.4:\n",
            "  Successfully uninstalled numpy-1.26.4\n",
            "Found existing installation: scipy 1.13.1\n",
            "Uninstalling scipy-1.13.1:\n",
            "  Successfully uninstalled scipy-1.13.1\n",
            "\u001b[33mWARNING: Ignoring invalid distribution ~cipy (/usr/local/lib/python3.12/dist-packages)\u001b[0m\u001b[33m\n",
            "\u001b[0mFound existing installation: gensim 4.3.3\n",
            "Uninstalling gensim-4.3.3:\n",
            "  Successfully uninstalled gensim-4.3.3\n",
            "\u001b[33mWARNING: Ignoring invalid distribution ~cipy (/usr/local/lib/python3.12/dist-packages)\u001b[0m\u001b[33m\n",
            "\u001b[0mCollecting gensim\n",
            "  Using cached gensim-4.3.3-cp312-cp312-manylinux_2_17_x86_64.manylinux2014_x86_64.whl.metadata (8.1 kB)\n",
            "Collecting numpy<2.0,>=1.18.5 (from gensim)\n",
            "  Using cached numpy-1.26.4-cp312-cp312-manylinux_2_17_x86_64.manylinux2014_x86_64.whl.metadata (61 kB)\n",
            "Collecting scipy<1.14.0,>=1.7.0 (from gensim)\n",
            "  Using cached scipy-1.13.1-cp312-cp312-manylinux_2_17_x86_64.manylinux2014_x86_64.whl.metadata (60 kB)\n",
            "Requirement already satisfied: smart-open>=1.8.1 in /usr/local/lib/python3.12/dist-packages (from gensim) (7.3.1)\n",
            "Requirement already satisfied: wrapt in /usr/local/lib/python3.12/dist-packages (from smart-open>=1.8.1->gensim) (1.17.3)\n",
            "Using cached gensim-4.3.3-cp312-cp312-manylinux_2_17_x86_64.manylinux2014_x86_64.whl (26.6 MB)\n",
            "Using cached numpy-1.26.4-cp312-cp312-manylinux_2_17_x86_64.manylinux2014_x86_64.whl (18.0 MB)\n",
            "Using cached scipy-1.13.1-cp312-cp312-manylinux_2_17_x86_64.manylinux2014_x86_64.whl (38.2 MB)\n",
            "\u001b[33mWARNING: Ignoring invalid distribution ~cipy (/usr/local/lib/python3.12/dist-packages)\u001b[0m\u001b[33m\n",
            "\u001b[0mInstalling collected packages: numpy, scipy, gensim\n",
            "\u001b[31mERROR: pip's dependency resolver does not currently take into account all the packages that are installed. This behaviour is the source of the following dependency conflicts.\n",
            "opencv-python 4.12.0.88 requires numpy<2.3.0,>=2; python_version >= \"3.9\", but you have numpy 1.26.4 which is incompatible.\n",
            "opencv-contrib-python 4.12.0.88 requires numpy<2.3.0,>=2; python_version >= \"3.9\", but you have numpy 1.26.4 which is incompatible.\n",
            "opencv-python-headless 4.12.0.88 requires numpy<2.3.0,>=2; python_version >= \"3.9\", but you have numpy 1.26.4 which is incompatible.\n",
            "tsfresh 0.21.1 requires scipy>=1.14.0; python_version >= \"3.10\", but you have scipy 1.13.1 which is incompatible.\n",
            "thinc 8.3.6 requires numpy<3.0.0,>=2.0.0, but you have numpy 1.26.4 which is incompatible.\u001b[0m\u001b[31m\n",
            "\u001b[0mSuccessfully installed gensim-4.3.3 numpy-1.26.4 scipy-1.13.1\n"
          ]
        },
        {
          "output_type": "display_data",
          "data": {
            "application/vnd.colab-display-data+json": {
              "pip_warning": {
                "packages": [
                  "numpy"
                ]
              },
              "id": "163da077d813467297c83612395804e1"
            }
          },
          "metadata": {}
        }
      ]
    },
    {
      "cell_type": "code",
      "execution_count": 5,
      "id": "5177bbd7",
      "metadata": {
        "id": "5177bbd7"
      },
      "outputs": [],
      "source": [
        "import numpy as np\n",
        "import pandas as pd\n",
        "import gensim\n",
        "import os"
      ]
    },
    {
      "cell_type": "code",
      "source": [
        "import nltk\n",
        "nltk.download('punkt_tab')\n",
        "nltk.download('stopwords')\n",
        "nltk.download('punkt')"
      ],
      "metadata": {
        "colab": {
          "base_uri": "https://localhost:8080/"
        },
        "id": "oMgyXKYy4EcA",
        "outputId": "d8fc7f32-f5c7-4e20-8121-1fa77341771e"
      },
      "id": "oMgyXKYy4EcA",
      "execution_count": 15,
      "outputs": [
        {
          "output_type": "stream",
          "name": "stderr",
          "text": [
            "[nltk_data] Downloading package punkt_tab to /root/nltk_data...\n",
            "[nltk_data]   Package punkt_tab is already up-to-date!\n",
            "[nltk_data] Downloading package stopwords to /root/nltk_data...\n",
            "[nltk_data]   Unzipping corpora/stopwords.zip.\n",
            "[nltk_data] Downloading package punkt to /root/nltk_data...\n",
            "[nltk_data]   Unzipping tokenizers/punkt.zip.\n"
          ]
        },
        {
          "output_type": "execute_result",
          "data": {
            "text/plain": [
              "True"
            ]
          },
          "metadata": {},
          "execution_count": 15
        }
      ]
    },
    {
      "cell_type": "code",
      "source": [
        "import nltk\n",
        "from nltk.corpus import stopwords\n",
        "from nltk.tokenize import word_tokenize\n",
        "\n",
        "def remove_stopwords(text):\n",
        "    \"\"\"\n",
        "    Removes English stop words from a given text.\n",
        "    Returns a list of filtered words.\n",
        "    \"\"\"\n",
        "    stop_words = set(stopwords.words('english'))  # Load English stop words\n",
        "    words = word_tokenize(text.lower())           # Tokenize and lowercase\n",
        "    filtered_words = [word for word in words if word.isalnum() and word not in stop_words]\n",
        "    return filtered_words"
      ],
      "metadata": {
        "id": "WuzSC3Om5YIy"
      },
      "id": "WuzSC3Om5YIy",
      "execution_count": 18,
      "outputs": []
    },
    {
      "cell_type": "code",
      "execution_count": 28,
      "id": "977eebca",
      "metadata": {
        "id": "977eebca"
      },
      "outputs": [],
      "source": [
        "from nltk import sent_tokenize\n",
        "\n",
        "story = []\n",
        "for filename in os.listdir('/content/data'):\n",
        "\n",
        "    f = open(os.path.join('/content/data',filename), encoding='latin-1')\n",
        "    corpus = f.read()\n",
        "    raw_sent = sent_tokenize(corpus)\n",
        "    for sent in raw_sent:\n",
        "        story.append(remove_stopwords(sent))\n"
      ]
    },
    {
      "cell_type": "code",
      "source": [
        "len(story)"
      ],
      "metadata": {
        "colab": {
          "base_uri": "https://localhost:8080/"
        },
        "id": "D27nzWFV48Rt",
        "outputId": "1a65544d-2e60-471b-eb1f-6014b73d8a20"
      },
      "id": "D27nzWFV48Rt",
      "execution_count": 20,
      "outputs": [
        {
          "output_type": "execute_result",
          "data": {
            "text/plain": [
              "145020"
            ]
          },
          "metadata": {},
          "execution_count": 20
        }
      ]
    },
    {
      "cell_type": "code",
      "execution_count": 21,
      "id": "d72a6552",
      "metadata": {
        "id": "d72a6552"
      },
      "outputs": [],
      "source": [
        "\n",
        "model = gensim.models.Word2Vec(\n",
        "    window=10,\n",
        "    min_count=2\n",
        ")"
      ]
    },
    {
      "cell_type": "code",
      "execution_count": 22,
      "id": "c340edcd",
      "metadata": {
        "id": "c340edcd"
      },
      "outputs": [],
      "source": [
        "model.build_vocab(story)"
      ]
    },
    {
      "cell_type": "code",
      "execution_count": 24,
      "id": "bf85cfdd",
      "metadata": {
        "colab": {
          "base_uri": "https://localhost:8080/"
        },
        "id": "bf85cfdd",
        "outputId": "d51773f8-ea9d-4456-e114-7fd74e66556a"
      },
      "outputs": [
        {
          "output_type": "execute_result",
          "data": {
            "text/plain": [
              "(4251121, 4428680)"
            ]
          },
          "metadata": {},
          "execution_count": 24
        }
      ],
      "source": [
        "model.train(story, total_examples=model.corpus_count, epochs=model.epochs)"
      ]
    },
    {
      "cell_type": "code",
      "execution_count": 25,
      "id": "541eecf3",
      "metadata": {
        "colab": {
          "base_uri": "https://localhost:8080/"
        },
        "id": "541eecf3",
        "outputId": "ab95fb75-d2cc-49a5-9018-bbe4e10f1f02"
      },
      "outputs": [
        {
          "output_type": "execute_result",
          "data": {
            "text/plain": [
              "[('stormborn', 0.918039858341217),\n",
              " ('unburnt', 0.9153740406036377),\n",
              " ('proposes', 0.8384459614753723),\n",
              " ('elia', 0.8376298546791077),\n",
              " ('regent', 0.8369508385658264),\n",
              " ('targaryen', 0.8352387547492981),\n",
              " ('dowager', 0.8338564038276672),\n",
              " ('dorne', 0.829229474067688),\n",
              " ('myrcella', 0.8198545575141907),\n",
              " ('westeros', 0.818338930606842)]"
            ]
          },
          "metadata": {},
          "execution_count": 25
        }
      ],
      "source": [
        "model.wv.most_similar('daenerys')"
      ]
    },
    {
      "cell_type": "code",
      "execution_count": 30,
      "id": "3c981ff1",
      "metadata": {
        "colab": {
          "base_uri": "https://localhost:8080/",
          "height": 52
        },
        "id": "3c981ff1",
        "outputId": "aa3e6f9a-9a9d-4589-f4b1-0c9ba1054a27"
      },
      "outputs": [
        {
          "output_type": "stream",
          "name": "stderr",
          "text": [
            "WARNING:gensim.models.keyedvectors:vectors for words {'rikon'} are not present in the model, ignoring these words\n"
          ]
        },
        {
          "output_type": "execute_result",
          "data": {
            "text/plain": [
              "'jon'"
            ],
            "application/vnd.google.colaboratory.intrinsic+json": {
              "type": "string"
            }
          },
          "metadata": {},
          "execution_count": 30
        }
      ],
      "source": [
        "model.wv.doesnt_match(['jon','rikon','robb','arya','sansa','bran'])"
      ]
    },
    {
      "cell_type": "code",
      "execution_count": 31,
      "id": "d174263a",
      "metadata": {
        "colab": {
          "base_uri": "https://localhost:8080/",
          "height": 35
        },
        "id": "d174263a",
        "outputId": "16a2d364-c7d6-4b56-ef85-f7d3898262bb"
      },
      "outputs": [
        {
          "output_type": "execute_result",
          "data": {
            "text/plain": [
              "'bronn'"
            ],
            "application/vnd.google.colaboratory.intrinsic+json": {
              "type": "string"
            }
          },
          "metadata": {},
          "execution_count": 31
        }
      ],
      "source": [
        "model.wv.doesnt_match(['cersei', 'jaime', 'bronn', 'tyrion'])\n"
      ]
    },
    {
      "cell_type": "code",
      "execution_count": 32,
      "id": "de50b00c",
      "metadata": {
        "colab": {
          "base_uri": "https://localhost:8080/"
        },
        "id": "de50b00c",
        "outputId": "b6b37b06-3ba6-492e-e135-0c8b087ace41"
      },
      "outputs": [
        {
          "output_type": "execute_result",
          "data": {
            "text/plain": [
              "array([ 1.0093296 , -0.5168661 , -0.7303932 ,  1.3679669 ,  0.3532583 ,\n",
              "       -1.2996318 ,  0.5603531 ,  1.9508766 , -0.20724888, -0.29371595,\n",
              "        1.601246  , -0.949046  ,  0.4043688 ,  1.3856896 , -0.07358478,\n",
              "        0.30664456,  1.3870353 , -3.0076244 ,  0.03063171, -1.7144835 ,\n",
              "        1.3894771 , -0.13541535,  0.68213654, -0.69690955,  0.95130813,\n",
              "       -1.7585331 , -1.2358825 ,  1.0421823 , -0.9460232 , -0.33827776,\n",
              "        2.6956306 ,  1.5300121 ,  2.067687  ,  2.0325477 , -1.3980445 ,\n",
              "       -0.0887838 , -0.7939005 ,  0.19864087, -0.70291793, -0.09393903,\n",
              "        0.33078957, -0.4903777 , -1.0465509 , -0.14055702,  0.13314524,\n",
              "        0.6941181 , -1.238574  ,  1.6549466 ,  0.19639787,  0.5537743 ,\n",
              "        0.5301553 ,  1.0812541 , -0.50257826,  1.8823298 ,  0.2025261 ,\n",
              "        0.18038218, -0.04826539, -0.24304079, -1.3139817 , -0.421156  ,\n",
              "       -1.3972647 ,  1.3467517 ,  0.19361876, -0.03783574, -3.6698716 ,\n",
              "       -1.4511256 , -0.27081302, -0.8148022 ,  0.521237  , -0.15789635,\n",
              "        0.2072091 ,  1.3287747 ,  0.34314716, -0.6520742 , -0.7006469 ,\n",
              "       -2.3133173 ,  0.54643965, -1.6176767 , -0.959251  ,  0.21830855,\n",
              "        0.12086798, -1.0452758 , -0.3215982 ,  1.2472936 , -1.1180174 ,\n",
              "       -0.09224097, -2.5104265 ,  1.0217403 ,  1.0309967 ,  0.21392684,\n",
              "       -0.95322245,  0.5243031 ,  0.84191227,  1.3994063 ,  2.4093974 ,\n",
              "        0.44039243, -0.7415343 ,  1.0049479 ,  0.23774004,  0.1755353 ],\n",
              "      dtype=float32)"
            ]
          },
          "metadata": {},
          "execution_count": 32
        }
      ],
      "source": [
        "model.wv['king']\n"
      ]
    },
    {
      "cell_type": "code",
      "execution_count": 33,
      "id": "998d56a0",
      "metadata": {
        "colab": {
          "base_uri": "https://localhost:8080/"
        },
        "id": "998d56a0",
        "outputId": "c4536a6a-e3d2-4b3e-b38e-b8f562bca37a"
      },
      "outputs": [
        {
          "output_type": "execute_result",
          "data": {
            "text/plain": [
              "0.83377445"
            ]
          },
          "metadata": {},
          "execution_count": 33
        }
      ],
      "source": [
        "model.wv.similarity('arya','sansa')\n"
      ]
    },
    {
      "cell_type": "code",
      "source": [
        "model.wv.similarity('lannister','winterfell')"
      ],
      "metadata": {
        "colab": {
          "base_uri": "https://localhost:8080/"
        },
        "id": "dclO_7aT7Um3",
        "outputId": "fe872902-2e17-4095-d064-17c588a1c330"
      },
      "id": "dclO_7aT7Um3",
      "execution_count": 36,
      "outputs": [
        {
          "output_type": "execute_result",
          "data": {
            "text/plain": [
              "0.37011155"
            ]
          },
          "metadata": {},
          "execution_count": 36
        }
      ]
    },
    {
      "cell_type": "code",
      "source": [
        "model.wv.similarity('stark', 'winterfell')"
      ],
      "metadata": {
        "colab": {
          "base_uri": "https://localhost:8080/"
        },
        "id": "t4gVu2qX7wlt",
        "outputId": "19ecb83a-f941-4b79-a133-a8d9af02d12e"
      },
      "id": "t4gVu2qX7wlt",
      "execution_count": 37,
      "outputs": [
        {
          "output_type": "execute_result",
          "data": {
            "text/plain": [
              "0.843976"
            ]
          },
          "metadata": {},
          "execution_count": 37
        }
      ]
    },
    {
      "cell_type": "code",
      "execution_count": 38,
      "id": "0163f4fe",
      "metadata": {
        "colab": {
          "base_uri": "https://localhost:8080/"
        },
        "id": "0163f4fe",
        "outputId": "6aa69ae3-057a-4c60-8937-145ac8642af5"
      },
      "outputs": [
        {
          "output_type": "execute_result",
          "data": {
            "text/plain": [
              "0.6775753"
            ]
          },
          "metadata": {},
          "execution_count": 38
        }
      ],
      "source": [
        "model.wv.similarity('cersei','sansa')"
      ]
    },
    {
      "cell_type": "code",
      "execution_count": 40,
      "id": "c407ec33",
      "metadata": {
        "colab": {
          "base_uri": "https://localhost:8080/"
        },
        "id": "c407ec33",
        "outputId": "5ce75591-62df-44ff-e5f1-8e278d7e1065"
      },
      "outputs": [
        {
          "output_type": "execute_result",
          "data": {
            "text/plain": [
              "-0.15514821"
            ]
          },
          "metadata": {},
          "execution_count": 40
        }
      ],
      "source": [
        "model.wv.similarity('daenerys','jon')"
      ]
    },
    {
      "cell_type": "code",
      "execution_count": 41,
      "id": "b29065c9",
      "metadata": {
        "colab": {
          "base_uri": "https://localhost:8080/"
        },
        "id": "b29065c9",
        "outputId": "06f45fea-6098-4455-ac56-970e44e2cafb"
      },
      "outputs": [
        {
          "output_type": "execute_result",
          "data": {
            "text/plain": [
              "array([[-0.10128937,  0.00553222,  0.00693545, ..., -0.06309852,\n",
              "        -0.00328935,  0.04172033],\n",
              "       [-0.02374308,  0.09127802,  0.07902092, ...,  0.05323998,\n",
              "        -0.17773126,  0.06681453],\n",
              "       [-0.05555068, -0.05863926,  0.05480148, ..., -0.13793905,\n",
              "         0.10901947, -0.05134307],\n",
              "       ...,\n",
              "       [-0.04175289,  0.13447174,  0.05779159, ..., -0.15851559,\n",
              "        -0.0441233 , -0.04917126],\n",
              "       [-0.05916743,  0.18128602,  0.02727843, ..., -0.11599424,\n",
              "        -0.07326111, -0.04684492],\n",
              "       [ 0.03809951,  0.24708426,  0.04018201, ..., -0.08207154,\n",
              "         0.03734475,  0.00405042]], dtype=float32)"
            ]
          },
          "metadata": {},
          "execution_count": 41
        }
      ],
      "source": [
        "model.wv.get_normed_vectors()"
      ]
    },
    {
      "cell_type": "code",
      "execution_count": 43,
      "id": "839b2cb6",
      "metadata": {
        "colab": {
          "base_uri": "https://localhost:8080/"
        },
        "id": "839b2cb6",
        "outputId": "544fe852-6b37-4a26-c174-359564b45ac7"
      },
      "outputs": [
        {
          "output_type": "execute_result",
          "data": {
            "text/plain": [
              "17618"
            ]
          },
          "metadata": {},
          "execution_count": 43
        }
      ],
      "source": [
        "y = model.wv.index_to_key\n",
        "len(y)"
      ]
    },
    {
      "cell_type": "code",
      "execution_count": 44,
      "id": "e93209d9",
      "metadata": {
        "id": "e93209d9"
      },
      "outputs": [],
      "source": [
        "\n",
        "from sklearn.decomposition import PCA\n"
      ]
    },
    {
      "cell_type": "code",
      "execution_count": 45,
      "id": "6c2c8d01",
      "metadata": {
        "id": "6c2c8d01"
      },
      "outputs": [],
      "source": [
        "pca = PCA(n_components=3)\n"
      ]
    },
    {
      "cell_type": "code",
      "execution_count": 46,
      "id": "815af7ec",
      "metadata": {
        "id": "815af7ec"
      },
      "outputs": [],
      "source": [
        "X = pca.fit_transform(model.wv.get_normed_vectors())\n"
      ]
    },
    {
      "cell_type": "code",
      "execution_count": 49,
      "id": "a2fb5564",
      "metadata": {
        "colab": {
          "base_uri": "https://localhost:8080/"
        },
        "id": "a2fb5564",
        "outputId": "cad719a2-888c-4e1f-a9b7-23499c43576d"
      },
      "outputs": [
        {
          "output_type": "execute_result",
          "data": {
            "text/plain": [
              "(17618, 3)"
            ]
          },
          "metadata": {},
          "execution_count": 49
        }
      ],
      "source": [
        "X.shape\n"
      ]
    },
    {
      "cell_type": "code",
      "execution_count": 48,
      "id": "bf86aa23",
      "metadata": {
        "colab": {
          "base_uri": "https://localhost:8080/",
          "height": 542
        },
        "id": "bf86aa23",
        "outputId": "342da2de-9984-4a94-bed2-83bb8d1370b5"
      },
      "outputs": [
        {
          "output_type": "display_data",
          "data": {
            "text/html": [
              "<html>\n",
              "<head><meta charset=\"utf-8\" /></head>\n",
              "<body>\n",
              "    <div>            <script src=\"https://cdnjs.cloudflare.com/ajax/libs/mathjax/2.7.5/MathJax.js?config=TeX-AMS-MML_SVG\"></script><script type=\"text/javascript\">if (window.MathJax && window.MathJax.Hub && window.MathJax.Hub.Config) {window.MathJax.Hub.Config({SVG: {font: \"STIX-Web\"}});}</script>                <script type=\"text/javascript\">window.PlotlyConfig = {MathJaxConfig: 'local'};</script>\n",
              "        <script charset=\"utf-8\" src=\"https://cdn.plot.ly/plotly-2.35.2.min.js\"></script>                <div id=\"f3012ff0-7778-45c4-9d05-8ebbd7d5abc3\" class=\"plotly-graph-div\" style=\"height:525px; width:100%;\"></div>            <script type=\"text/javascript\">                                    window.PLOTLYENV=window.PLOTLYENV || {};                                    if (document.getElementById(\"f3012ff0-7778-45c4-9d05-8ebbd7d5abc3\")) {                    Plotly.newPlot(                        \"f3012ff0-7778-45c4-9d05-8ebbd7d5abc3\",                        [{\"hovertemplate\":\"color=taken\\u003cbr\\u003e0=%{x}\\u003cbr\\u003e1=%{y}\\u003cbr\\u003e2=%{z}\\u003cextra\\u003e\\u003c\\u002fextra\\u003e\",\"legendgroup\":\"taken\",\"marker\":{\"color\":\"#636efa\",\"symbol\":\"circle\"},\"mode\":\"markers\",\"name\":\"taken\",\"scene\":\"scene\",\"showlegend\":true,\"x\":[-0.4117632],\"y\":[0.6387654],\"z\":[-0.04430183],\"type\":\"scatter3d\"},{\"hovertemplate\":\"color=fear\\u003cbr\\u003e0=%{x}\\u003cbr\\u003e1=%{y}\\u003cbr\\u003e2=%{z}\\u003cextra\\u003e\\u003c\\u002fextra\\u003e\",\"legendgroup\":\"fear\",\"marker\":{\"color\":\"#EF553B\",\"symbol\":\"circle\"},\"mode\":\"markers\",\"name\":\"fear\",\"scene\":\"scene\",\"showlegend\":true,\"x\":[-0.3315619],\"y\":[-0.43100047],\"z\":[0.3575235],\"type\":\"scatter3d\"},{\"hovertemplate\":\"color=die\\u003cbr\\u003e0=%{x}\\u003cbr\\u003e1=%{y}\\u003cbr\\u003e2=%{z}\\u003cextra\\u003e\\u003c\\u002fextra\\u003e\",\"legendgroup\":\"die\",\"marker\":{\"color\":\"#00cc96\",\"symbol\":\"circle\"},\"mode\":\"markers\",\"name\":\"die\",\"scene\":\"scene\",\"showlegend\":true,\"x\":[-0.5752841],\"y\":[-0.014573455],\"z\":[0.38341457],\"type\":\"scatter3d\"},{\"hovertemplate\":\"color=word\\u003cbr\\u003e0=%{x}\\u003cbr\\u003e1=%{y}\\u003cbr\\u003e2=%{z}\\u003cextra\\u003e\\u003c\\u002fextra\\u003e\",\"legendgroup\":\"word\",\"marker\":{\"color\":\"#ab63fa\",\"symbol\":\"circle\"},\"mode\":\"markers\",\"name\":\"word\",\"scene\":\"scene\",\"showlegend\":true,\"x\":[-0.58390236],\"y\":[-0.08919093],\"z\":[0.009892315],\"type\":\"scatter3d\"},{\"hovertemplate\":\"color=brienne\\u003cbr\\u003e0=%{x}\\u003cbr\\u003e1=%{y}\\u003cbr\\u003e2=%{z}\\u003cextra\\u003e\\u003c\\u002fextra\\u003e\",\"legendgroup\":\"brienne\",\"marker\":{\"color\":\"#FFA15A\",\"symbol\":\"circle\"},\"mode\":\"markers\",\"name\":\"brienne\",\"scene\":\"scene\",\"showlegend\":true,\"x\":[0.023627533],\"y\":[-0.35435814],\"z\":[-0.20452991],\"type\":\"scatter3d\"},{\"hovertemplate\":\"color=davos\\u003cbr\\u003e0=%{x}\\u003cbr\\u003e1=%{y}\\u003cbr\\u003e2=%{z}\\u003cextra\\u003e\\u003c\\u002fextra\\u003e\",\"legendgroup\":\"davos\",\"marker\":{\"color\":\"#19d3f3\",\"symbol\":\"circle\"},\"mode\":\"markers\",\"name\":\"davos\",\"scene\":\"scene\",\"showlegend\":true,\"x\":[-0.14583705],\"y\":[-0.17429976],\"z\":[-0.2152363],\"type\":\"scatter3d\"},{\"hovertemplate\":\"color=something\\u003cbr\\u003e0=%{x}\\u003cbr\\u003e1=%{y}\\u003cbr\\u003e2=%{z}\\u003cextra\\u003e\\u003c\\u002fextra\\u003e\",\"legendgroup\":\"something\",\"marker\":{\"color\":\"#FF6692\",\"symbol\":\"circle\"},\"mode\":\"markers\",\"name\":\"something\",\"scene\":\"scene\",\"showlegend\":true,\"x\":[-0.056393065],\"y\":[-0.72468036],\"z\":[0.14982074],\"type\":\"scatter3d\"},{\"hovertemplate\":\"color=child\\u003cbr\\u003e0=%{x}\\u003cbr\\u003e1=%{y}\\u003cbr\\u003e2=%{z}\\u003cextra\\u003e\\u003c\\u002fextra\\u003e\",\"legendgroup\":\"child\",\"marker\":{\"color\":\"#B6E880\",\"symbol\":\"circle\"},\"mode\":\"markers\",\"name\":\"child\",\"scene\":\"scene\",\"showlegend\":true,\"x\":[-0.55187863],\"y\":[-0.0902987],\"z\":[-0.094032824],\"type\":\"scatter3d\"},{\"hovertemplate\":\"color=help\\u003cbr\\u003e0=%{x}\\u003cbr\\u003e1=%{y}\\u003cbr\\u003e2=%{z}\\u003cextra\\u003e\\u003c\\u002fextra\\u003e\",\"legendgroup\":\"help\",\"marker\":{\"color\":\"#FF97FF\",\"symbol\":\"circle\"},\"mode\":\"markers\",\"name\":\"help\",\"scene\":\"scene\",\"showlegend\":true,\"x\":[-0.5105746],\"y\":[-0.25197148],\"z\":[0.100766286],\"type\":\"scatter3d\"},{\"hovertemplate\":\"color=hall\\u003cbr\\u003e0=%{x}\\u003cbr\\u003e1=%{y}\\u003cbr\\u003e2=%{z}\\u003cextra\\u003e\\u003c\\u002fextra\\u003e\",\"legendgroup\":\"hall\",\"marker\":{\"color\":\"#FECB52\",\"symbol\":\"circle\"},\"mode\":\"markers\",\"name\":\"hall\",\"scene\":\"scene\",\"showlegend\":true,\"x\":[0.35456026],\"y\":[0.58306],\"z\":[-0.0048687756],\"type\":\"scatter3d\"},{\"hovertemplate\":\"color=mean\\u003cbr\\u003e0=%{x}\\u003cbr\\u003e1=%{y}\\u003cbr\\u003e2=%{z}\\u003cextra\\u003e\\u003c\\u002fextra\\u003e\",\"legendgroup\":\"mean\",\"marker\":{\"color\":\"#636efa\",\"symbol\":\"circle\"},\"mode\":\"markers\",\"name\":\"mean\",\"scene\":\"scene\",\"showlegend\":true,\"x\":[-0.7268408],\"y\":[0.034363173],\"z\":[0.14011776],\"type\":\"scatter3d\"},{\"hovertemplate\":\"color=began\\u003cbr\\u003e0=%{x}\\u003cbr\\u003e1=%{y}\\u003cbr\\u003e2=%{z}\\u003cextra\\u003e\\u003c\\u002fextra\\u003e\",\"legendgroup\":\"began\",\"marker\":{\"color\":\"#EF553B\",\"symbol\":\"circle\"},\"mode\":\"markers\",\"name\":\"began\",\"scene\":\"scene\",\"showlegend\":true,\"x\":[0.48828727],\"y\":[-0.15740617],\"z\":[0.2012516],\"type\":\"scatter3d\"},{\"hovertemplate\":\"color=rest\\u003cbr\\u003e0=%{x}\\u003cbr\\u003e1=%{y}\\u003cbr\\u003e2=%{z}\\u003cextra\\u003e\\u003c\\u002fextra\\u003e\",\"legendgroup\":\"rest\",\"marker\":{\"color\":\"#00cc96\",\"symbol\":\"circle\"},\"mode\":\"markers\",\"name\":\"rest\",\"scene\":\"scene\",\"showlegend\":true,\"x\":[-0.1954012],\"y\":[0.34850758],\"z\":[0.32374865],\"type\":\"scatter3d\"},{\"hovertemplate\":\"color=lords\\u003cbr\\u003e0=%{x}\\u003cbr\\u003e1=%{y}\\u003cbr\\u003e2=%{z}\\u003cextra\\u003e\\u003c\\u002fextra\\u003e\",\"legendgroup\":\"lords\",\"marker\":{\"color\":\"#ab63fa\",\"symbol\":\"circle\"},\"mode\":\"markers\",\"name\":\"lords\",\"scene\":\"scene\",\"showlegend\":true,\"x\":[-0.47179598],\"y\":[0.78262085],\"z\":[-0.054910712],\"type\":\"scatter3d\"},{\"hovertemplate\":\"color=battle\\u003cbr\\u003e0=%{x}\\u003cbr\\u003e1=%{y}\\u003cbr\\u003e2=%{z}\\u003cextra\\u003e\\u003c\\u002fextra\\u003e\",\"legendgroup\":\"battle\",\"marker\":{\"color\":\"#FFA15A\",\"symbol\":\"circle\"},\"mode\":\"markers\",\"name\":\"battle\",\"scene\":\"scene\",\"showlegend\":true,\"x\":[-0.41128972],\"y\":[0.66631275],\"z\":[0.08192366],\"type\":\"scatter3d\"},{\"hovertemplate\":\"color=sound\\u003cbr\\u003e0=%{x}\\u003cbr\\u003e1=%{y}\\u003cbr\\u003e2=%{z}\\u003cextra\\u003e\\u003c\\u002fextra\\u003e\",\"legendgroup\":\"sound\",\"marker\":{\"color\":\"#19d3f3\",\"symbol\":\"circle\"},\"mode\":\"markers\",\"name\":\"sound\",\"scene\":\"scene\",\"showlegend\":true,\"x\":[0.49133575],\"y\":[-0.28618836],\"z\":[0.25778446],\"type\":\"scatter3d\"},{\"hovertemplate\":\"color=wife\\u003cbr\\u003e0=%{x}\\u003cbr\\u003e1=%{y}\\u003cbr\\u003e2=%{z}\\u003cextra\\u003e\\u003c\\u002fextra\\u003e\",\"legendgroup\":\"wife\",\"marker\":{\"color\":\"#FF6692\",\"symbol\":\"circle\"},\"mode\":\"markers\",\"name\":\"wife\",\"scene\":\"scene\",\"showlegend\":true,\"x\":[-0.5705064],\"y\":[0.38988417],\"z\":[-0.3661142],\"type\":\"scatter3d\"},{\"hovertemplate\":\"color=new\\u003cbr\\u003e0=%{x}\\u003cbr\\u003e1=%{y}\\u003cbr\\u003e2=%{z}\\u003cextra\\u003e\\u003c\\u002fextra\\u003e\",\"legendgroup\":\"new\",\"marker\":{\"color\":\"#B6E880\",\"symbol\":\"circle\"},\"mode\":\"markers\",\"name\":\"new\",\"scene\":\"scene\",\"showlegend\":true,\"x\":[-0.30781782],\"y\":[0.6001338],\"z\":[0.07989022],\"type\":\"scatter3d\"},{\"hovertemplate\":\"color=past\\u003cbr\\u003e0=%{x}\\u003cbr\\u003e1=%{y}\\u003cbr\\u003e2=%{z}\\u003cextra\\u003e\\u003c\\u002fextra\\u003e\",\"legendgroup\":\"past\",\"marker\":{\"color\":\"#FF97FF\",\"symbol\":\"circle\"},\"mode\":\"markers\",\"name\":\"past\",\"scene\":\"scene\",\"showlegend\":true,\"x\":[0.4399524],\"y\":[0.5027124],\"z\":[0.16723996],\"type\":\"scatter3d\"},{\"hovertemplate\":\"color=kill\\u003cbr\\u003e0=%{x}\\u003cbr\\u003e1=%{y}\\u003cbr\\u003e2=%{z}\\u003cextra\\u003e\\u003c\\u002fextra\\u003e\",\"legendgroup\":\"kill\",\"marker\":{\"color\":\"#FECB52\",\"symbol\":\"circle\"},\"mode\":\"markers\",\"name\":\"kill\",\"scene\":\"scene\",\"showlegend\":true,\"x\":[-0.6063158],\"y\":[-0.23945443],\"z\":[0.20267594],\"type\":\"scatter3d\"},{\"hovertemplate\":\"color=tried\\u003cbr\\u003e0=%{x}\\u003cbr\\u003e1=%{y}\\u003cbr\\u003e2=%{z}\\u003cextra\\u003e\\u003c\\u002fextra\\u003e\",\"legendgroup\":\"tried\",\"marker\":{\"color\":\"#636efa\",\"symbol\":\"circle\"},\"mode\":\"markers\",\"name\":\"tried\",\"scene\":\"scene\",\"showlegend\":true,\"x\":[-0.019388974],\"y\":[-0.43399978],\"z\":[0.12960091],\"type\":\"scatter3d\"},{\"hovertemplate\":\"color=tywin\\u003cbr\\u003e0=%{x}\\u003cbr\\u003e1=%{y}\\u003cbr\\u003e2=%{z}\\u003cextra\\u003e\\u003c\\u002fextra\\u003e\",\"legendgroup\":\"tywin\",\"marker\":{\"color\":\"#EF553B\",\"symbol\":\"circle\"},\"mode\":\"markers\",\"name\":\"tywin\",\"scene\":\"scene\",\"showlegend\":true,\"x\":[-0.39254755],\"y\":[0.28719193],\"z\":[-0.38087267],\"type\":\"scatter3d\"},{\"hovertemplate\":\"color=arm\\u003cbr\\u003e0=%{x}\\u003cbr\\u003e1=%{y}\\u003cbr\\u003e2=%{z}\\u003cextra\\u003e\\u003c\\u002fextra\\u003e\",\"legendgroup\":\"arm\",\"marker\":{\"color\":\"#00cc96\",\"symbol\":\"circle\"},\"mode\":\"markers\",\"name\":\"arm\",\"scene\":\"scene\",\"showlegend\":true,\"x\":[0.4791896],\"y\":[-0.11971684],\"z\":[-0.36303437],\"type\":\"scatter3d\"},{\"hovertemplate\":\"color=killed\\u003cbr\\u003e0=%{x}\\u003cbr\\u003e1=%{y}\\u003cbr\\u003e2=%{z}\\u003cextra\\u003e\\u003c\\u002fextra\\u003e\",\"legendgroup\":\"killed\",\"marker\":{\"color\":\"#ab63fa\",\"symbol\":\"circle\"},\"mode\":\"markers\",\"name\":\"killed\",\"scene\":\"scene\",\"showlegend\":true,\"x\":[-0.5563315],\"y\":[0.20390525],\"z\":[-0.17035735],\"type\":\"scatter3d\"},{\"hovertemplate\":\"color=strong\\u003cbr\\u003e0=%{x}\\u003cbr\\u003e1=%{y}\\u003cbr\\u003e2=%{z}\\u003cextra\\u003e\\u003c\\u002fextra\\u003e\",\"legendgroup\":\"strong\",\"marker\":{\"color\":\"#FFA15A\",\"symbol\":\"circle\"},\"mode\":\"markers\",\"name\":\"strong\",\"scene\":\"scene\",\"showlegend\":true,\"x\":[-0.15140446],\"y\":[0.086146295],\"z\":[0.18721208],\"type\":\"scatter3d\"},{\"hovertemplate\":\"color=steel\\u003cbr\\u003e0=%{x}\\u003cbr\\u003e1=%{y}\\u003cbr\\u003e2=%{z}\\u003cextra\\u003e\\u003c\\u002fextra\\u003e\",\"legendgroup\":\"steel\",\"marker\":{\"color\":\"#19d3f3\",\"symbol\":\"circle\"},\"mode\":\"markers\",\"name\":\"steel\",\"scene\":\"scene\",\"showlegend\":true,\"x\":[0.6874774],\"y\":[0.118807524],\"z\":[-0.120333955],\"type\":\"scatter3d\"},{\"hovertemplate\":\"color=tower\\u003cbr\\u003e0=%{x}\\u003cbr\\u003e1=%{y}\\u003cbr\\u003e2=%{z}\\u003cextra\\u003e\\u003c\\u002fextra\\u003e\",\"legendgroup\":\"tower\",\"marker\":{\"color\":\"#FF6692\",\"symbol\":\"circle\"},\"mode\":\"markers\",\"name\":\"tower\",\"scene\":\"scene\",\"showlegend\":true,\"x\":[0.40638524],\"y\":[0.6111291],\"z\":[0.07462405],\"type\":\"scatter3d\"},{\"hovertemplate\":\"color=yes\\u003cbr\\u003e0=%{x}\\u003cbr\\u003e1=%{y}\\u003cbr\\u003e2=%{z}\\u003cextra\\u003e\\u003c\\u002fextra\\u003e\",\"legendgroup\":\"yes\",\"marker\":{\"color\":\"#B6E880\",\"symbol\":\"circle\"},\"mode\":\"markers\",\"name\":\"yes\",\"scene\":\"scene\",\"showlegend\":true,\"x\":[-0.7113366],\"y\":[-0.23046558],\"z\":[-0.072432235],\"type\":\"scatter3d\"},{\"hovertemplate\":\"color=thing\\u003cbr\\u003e0=%{x}\\u003cbr\\u003e1=%{y}\\u003cbr\\u003e2=%{z}\\u003cextra\\u003e\\u003c\\u002fextra\\u003e\",\"legendgroup\":\"thing\",\"marker\":{\"color\":\"#FF97FF\",\"symbol\":\"circle\"},\"mode\":\"markers\",\"name\":\"thing\",\"scene\":\"scene\",\"showlegend\":true,\"x\":[-0.20316736],\"y\":[-0.3363287],\"z\":[0.27395725],\"type\":\"scatter3d\"},{\"hovertemplate\":\"color=free\\u003cbr\\u003e0=%{x}\\u003cbr\\u003e1=%{y}\\u003cbr\\u003e2=%{z}\\u003cextra\\u003e\\u003c\\u002fextra\\u003e\",\"legendgroup\":\"free\",\"marker\":{\"color\":\"#FECB52\",\"symbol\":\"circle\"},\"mode\":\"markers\",\"name\":\"free\",\"scene\":\"scene\",\"showlegend\":true,\"x\":[-0.12959626],\"y\":[0.44745266],\"z\":[0.49863964],\"type\":\"scatter3d\"},{\"hovertemplate\":\"color=life\\u003cbr\\u003e0=%{x}\\u003cbr\\u003e1=%{y}\\u003cbr\\u003e2=%{z}\\u003cextra\\u003e\\u003c\\u002fextra\\u003e\",\"legendgroup\":\"life\",\"marker\":{\"color\":\"#636efa\",\"symbol\":\"circle\"},\"mode\":\"markers\",\"name\":\"life\",\"scene\":\"scene\",\"showlegend\":true,\"x\":[-0.590182],\"y\":[0.15227778],\"z\":[0.35090944],\"type\":\"scatter3d\"},{\"hovertemplate\":\"color=bloody\\u003cbr\\u003e0=%{x}\\u003cbr\\u003e1=%{y}\\u003cbr\\u003e2=%{z}\\u003cextra\\u003e\\u003c\\u002fextra\\u003e\",\"legendgroup\":\"bloody\",\"marker\":{\"color\":\"#EF553B\",\"symbol\":\"circle\"},\"mode\":\"markers\",\"name\":\"bloody\",\"scene\":\"scene\",\"showlegend\":true,\"x\":[-0.009423366],\"y\":[-0.18869193],\"z\":[0.1651063],\"type\":\"scatter3d\"},{\"hovertemplate\":\"color=sons\\u003cbr\\u003e0=%{x}\\u003cbr\\u003e1=%{y}\\u003cbr\\u003e2=%{z}\\u003cextra\\u003e\\u003c\\u002fextra\\u003e\",\"legendgroup\":\"sons\",\"marker\":{\"color\":\"#00cc96\",\"symbol\":\"circle\"},\"mode\":\"markers\",\"name\":\"sons\",\"scene\":\"scene\",\"showlegend\":true,\"x\":[-0.45664942],\"y\":[0.76783526],\"z\":[-0.24785355],\"type\":\"scatter3d\"},{\"hovertemplate\":\"color=days\\u003cbr\\u003e0=%{x}\\u003cbr\\u003e1=%{y}\\u003cbr\\u003e2=%{z}\\u003cextra\\u003e\\u003c\\u002fextra\\u003e\",\"legendgroup\":\"days\",\"marker\":{\"color\":\"#ab63fa\",\"symbol\":\"circle\"},\"mode\":\"markers\",\"name\":\"days\",\"scene\":\"scene\",\"showlegend\":true,\"x\":[-0.1356404],\"y\":[0.5033478],\"z\":[0.5076724],\"type\":\"scatter3d\"},{\"hovertemplate\":\"color=sat\\u003cbr\\u003e0=%{x}\\u003cbr\\u003e1=%{y}\\u003cbr\\u003e2=%{z}\\u003cextra\\u003e\\u003c\\u002fextra\\u003e\",\"legendgroup\":\"sat\",\"marker\":{\"color\":\"#FFA15A\",\"symbol\":\"circle\"},\"mode\":\"markers\",\"name\":\"sat\",\"scene\":\"scene\",\"showlegend\":true,\"x\":[0.49120444],\"y\":[0.34640956],\"z\":[-0.36638504],\"type\":\"scatter3d\"},{\"hovertemplate\":\"color=pale\\u003cbr\\u003e0=%{x}\\u003cbr\\u003e1=%{y}\\u003cbr\\u003e2=%{z}\\u003cextra\\u003e\\u003c\\u002fextra\\u003e\",\"legendgroup\":\"pale\",\"marker\":{\"color\":\"#19d3f3\",\"symbol\":\"circle\"},\"mode\":\"markers\",\"name\":\"pale\",\"scene\":\"scene\",\"showlegend\":true,\"x\":[0.6966179],\"y\":[0.025674015],\"z\":[-0.17793448],\"type\":\"scatter3d\"},{\"hovertemplate\":\"color=moment\\u003cbr\\u003e0=%{x}\\u003cbr\\u003e1=%{y}\\u003cbr\\u003e2=%{z}\\u003cextra\\u003e\\u003c\\u002fextra\\u003e\",\"legendgroup\":\"moment\",\"marker\":{\"color\":\"#FF6692\",\"symbol\":\"circle\"},\"mode\":\"markers\",\"name\":\"moment\",\"scene\":\"scene\",\"showlegend\":true,\"x\":[0.008576326],\"y\":[-0.550774],\"z\":[-0.12226091],\"type\":\"scatter3d\"},{\"hovertemplate\":\"color=love\\u003cbr\\u003e0=%{x}\\u003cbr\\u003e1=%{y}\\u003cbr\\u003e2=%{z}\\u003cextra\\u003e\\u003c\\u002fextra\\u003e\",\"legendgroup\":\"love\",\"marker\":{\"color\":\"#B6E880\",\"symbol\":\"circle\"},\"mode\":\"markers\",\"name\":\"love\",\"scene\":\"scene\",\"showlegend\":true,\"x\":[-0.7539162],\"y\":[-0.09635608],\"z\":[0.012510613],\"type\":\"scatter3d\"},{\"hovertemplate\":\"color=heart\\u003cbr\\u003e0=%{x}\\u003cbr\\u003e1=%{y}\\u003cbr\\u003e2=%{z}\\u003cextra\\u003e\\u003c\\u002fextra\\u003e\",\"legendgroup\":\"heart\",\"marker\":{\"color\":\"#FF97FF\",\"symbol\":\"circle\"},\"mode\":\"markers\",\"name\":\"heart\",\"scene\":\"scene\",\"showlegend\":true,\"x\":[0.23404634],\"y\":[-0.121988356],\"z\":[0.13178253],\"type\":\"scatter3d\"},{\"hovertemplate\":\"color=inside\\u003cbr\\u003e0=%{x}\\u003cbr\\u003e1=%{y}\\u003cbr\\u003e2=%{z}\\u003cextra\\u003e\\u003c\\u002fextra\\u003e\",\"legendgroup\":\"inside\",\"marker\":{\"color\":\"#FECB52\",\"symbol\":\"circle\"},\"mode\":\"markers\",\"name\":\"inside\",\"scene\":\"scene\",\"showlegend\":true,\"x\":[0.67664546],\"y\":[-0.022028387],\"z\":[0.25021535],\"type\":\"scatter3d\"},{\"hovertemplate\":\"color=bed\\u003cbr\\u003e0=%{x}\\u003cbr\\u003e1=%{y}\\u003cbr\\u003e2=%{z}\\u003cextra\\u003e\\u003c\\u002fextra\\u003e\",\"legendgroup\":\"bed\",\"marker\":{\"color\":\"#636efa\",\"symbol\":\"circle\"},\"mode\":\"markers\",\"name\":\"bed\",\"scene\":\"scene\",\"showlegend\":true,\"x\":[0.14560187],\"y\":[-0.29477417],\"z\":[0.08440162],\"type\":\"scatter3d\"},{\"hovertemplate\":\"color=knights\\u003cbr\\u003e0=%{x}\\u003cbr\\u003e1=%{y}\\u003cbr\\u003e2=%{z}\\u003cextra\\u003e\\u003c\\u002fextra\\u003e\",\"legendgroup\":\"knights\",\"marker\":{\"color\":\"#EF553B\",\"symbol\":\"circle\"},\"mode\":\"markers\",\"name\":\"knights\",\"scene\":\"scene\",\"showlegend\":true,\"x\":[-0.23536658],\"y\":[0.8594108],\"z\":[-0.13052645],\"type\":\"scatter3d\"},{\"hovertemplate\":\"color=smile\\u003cbr\\u003e0=%{x}\\u003cbr\\u003e1=%{y}\\u003cbr\\u003e2=%{z}\\u003cextra\\u003e\\u003c\\u002fextra\\u003e\",\"legendgroup\":\"smile\",\"marker\":{\"color\":\"#00cc96\",\"symbol\":\"circle\"},\"mode\":\"markers\",\"name\":\"smile\",\"scene\":\"scene\",\"showlegend\":true,\"x\":[-0.013733369],\"y\":[-0.5800428],\"z\":[-0.48210365],\"type\":\"scatter3d\"},{\"hovertemplate\":\"color=cut\\u003cbr\\u003e0=%{x}\\u003cbr\\u003e1=%{y}\\u003cbr\\u003e2=%{z}\\u003cextra\\u003e\\u003c\\u002fextra\\u003e\",\"legendgroup\":\"cut\",\"marker\":{\"color\":\"#ab63fa\",\"symbol\":\"circle\"},\"mode\":\"markers\",\"name\":\"cut\",\"scene\":\"scene\",\"showlegend\":true,\"x\":[0.34591115],\"y\":[-0.19279854],\"z\":[0.0010151714],\"type\":\"scatter3d\"},{\"hovertemplate\":\"color=part\\u003cbr\\u003e0=%{x}\\u003cbr\\u003e1=%{y}\\u003cbr\\u003e2=%{z}\\u003cextra\\u003e\\u003c\\u002fextra\\u003e\",\"legendgroup\":\"part\",\"marker\":{\"color\":\"#FFA15A\",\"symbol\":\"circle\"},\"mode\":\"markers\",\"name\":\"part\",\"scene\":\"scene\",\"showlegend\":true,\"x\":[-0.6070519],\"y\":[0.17006904],\"z\":[0.27329785],\"type\":\"scatter3d\"},{\"hovertemplate\":\"color=arms\\u003cbr\\u003e0=%{x}\\u003cbr\\u003e1=%{y}\\u003cbr\\u003e2=%{z}\\u003cextra\\u003e\\u003c\\u002fextra\\u003e\",\"legendgroup\":\"arms\",\"marker\":{\"color\":\"#19d3f3\",\"symbol\":\"circle\"},\"mode\":\"markers\",\"name\":\"arms\",\"scene\":\"scene\",\"showlegend\":true,\"x\":[0.56524885],\"y\":[-0.013150483],\"z\":[-0.33516905],\"type\":\"scatter3d\"},{\"hovertemplate\":\"color=bring\\u003cbr\\u003e0=%{x}\\u003cbr\\u003e1=%{y}\\u003cbr\\u003e2=%{z}\\u003cextra\\u003e\\u003c\\u002fextra\\u003e\",\"legendgroup\":\"bring\",\"marker\":{\"color\":\"#FF6692\",\"symbol\":\"circle\"},\"mode\":\"markers\",\"name\":\"bring\",\"scene\":\"scene\",\"showlegend\":true,\"x\":[-0.5060156],\"y\":[0.12998177],\"z\":[0.075983524],\"type\":\"scatter3d\"},{\"hovertemplate\":\"color=horses\\u003cbr\\u003e0=%{x}\\u003cbr\\u003e1=%{y}\\u003cbr\\u003e2=%{z}\\u003cextra\\u003e\\u003c\\u002fextra\\u003e\",\"legendgroup\":\"horses\",\"marker\":{\"color\":\"#B6E880\",\"symbol\":\"circle\"},\"mode\":\"markers\",\"name\":\"horses\",\"scene\":\"scene\",\"showlegend\":true,\"x\":[0.4271038],\"y\":[0.262146],\"z\":[0.4682014],\"type\":\"scatter3d\"},{\"hovertemplate\":\"color=bear\\u003cbr\\u003e0=%{x}\\u003cbr\\u003e1=%{y}\\u003cbr\\u003e2=%{z}\\u003cextra\\u003e\\u003c\\u002fextra\\u003e\",\"legendgroup\":\"bear\",\"marker\":{\"color\":\"#FF97FF\",\"symbol\":\"circle\"},\"mode\":\"markers\",\"name\":\"bear\",\"scene\":\"scene\",\"showlegend\":true,\"x\":[-0.10902799],\"y\":[0.059607908],\"z\":[-0.11080787],\"type\":\"scatter3d\"},{\"hovertemplate\":\"color=thousand\\u003cbr\\u003e0=%{x}\\u003cbr\\u003e1=%{y}\\u003cbr\\u003e2=%{z}\\u003cextra\\u003e\\u003c\\u002fextra\\u003e\",\"legendgroup\":\"thousand\",\"marker\":{\"color\":\"#FECB52\",\"symbol\":\"circle\"},\"mode\":\"markers\",\"name\":\"thousand\",\"scene\":\"scene\",\"showlegend\":true,\"x\":[0.0024973024],\"y\":[0.6622249],\"z\":[0.38690907],\"type\":\"scatter3d\"},{\"hovertemplate\":\"color=going\\u003cbr\\u003e0=%{x}\\u003cbr\\u003e1=%{y}\\u003cbr\\u003e2=%{z}\\u003cextra\\u003e\\u003c\\u002fextra\\u003e\",\"legendgroup\":\"going\",\"marker\":{\"color\":\"#636efa\",\"symbol\":\"circle\"},\"mode\":\"markers\",\"name\":\"going\",\"scene\":\"scene\",\"showlegend\":true,\"x\":[-0.30418178],\"y\":[-0.22895668],\"z\":[0.4753893],\"type\":\"scatter3d\"},{\"hovertemplate\":\"color=landing\\u003cbr\\u003e0=%{x}\\u003cbr\\u003e1=%{y}\\u003cbr\\u003e2=%{z}\\u003cextra\\u003e\\u003c\\u002fextra\\u003e\",\"legendgroup\":\"landing\",\"marker\":{\"color\":\"#EF553B\",\"symbol\":\"circle\"},\"mode\":\"markers\",\"name\":\"landing\",\"scene\":\"scene\",\"showlegend\":true,\"x\":[-0.3903693],\"y\":[0.5447935],\"z\":[-0.06528409],\"type\":\"scatter3d\"},{\"hovertemplate\":\"color=dragon\\u003cbr\\u003e0=%{x}\\u003cbr\\u003e1=%{y}\\u003cbr\\u003e2=%{z}\\u003cextra\\u003e\\u003c\\u002fextra\\u003e\",\"legendgroup\":\"dragon\",\"marker\":{\"color\":\"#00cc96\",\"symbol\":\"circle\"},\"mode\":\"markers\",\"name\":\"dragon\",\"scene\":\"scene\",\"showlegend\":true,\"x\":[0.075418085],\"y\":[0.31250513],\"z\":[0.21028191],\"type\":\"scatter3d\"},{\"hovertemplate\":\"color=close\\u003cbr\\u003e0=%{x}\\u003cbr\\u003e1=%{y}\\u003cbr\\u003e2=%{z}\\u003cextra\\u003e\\u003c\\u002fextra\\u003e\",\"legendgroup\":\"close\",\"marker\":{\"color\":\"#ab63fa\",\"symbol\":\"circle\"},\"mode\":\"markers\",\"name\":\"close\",\"scene\":\"scene\",\"showlegend\":true,\"x\":[0.283866],\"y\":[-0.11360243],\"z\":[0.17386344],\"type\":\"scatter3d\"},{\"hovertemplate\":\"color=air\\u003cbr\\u003e0=%{x}\\u003cbr\\u003e1=%{y}\\u003cbr\\u003e2=%{z}\\u003cextra\\u003e\\u003c\\u002fextra\\u003e\",\"legendgroup\":\"air\",\"marker\":{\"color\":\"#FFA15A\",\"symbol\":\"circle\"},\"mode\":\"markers\",\"name\":\"air\",\"scene\":\"scene\",\"showlegend\":true,\"x\":[0.7130677],\"y\":[-0.20292328],\"z\":[0.24175298],\"type\":\"scatter3d\"},{\"hovertemplate\":\"color=laughed\\u003cbr\\u003e0=%{x}\\u003cbr\\u003e1=%{y}\\u003cbr\\u003e2=%{z}\\u003cextra\\u003e\\u003c\\u002fextra\\u003e\",\"legendgroup\":\"laughed\",\"marker\":{\"color\":\"#19d3f3\",\"symbol\":\"circle\"},\"mode\":\"markers\",\"name\":\"laughed\",\"scene\":\"scene\",\"showlegend\":true,\"x\":[-0.35642353],\"y\":[-0.37225193],\"z\":[-0.36367747],\"type\":\"scatter3d\"},{\"hovertemplate\":\"color=open\\u003cbr\\u003e0=%{x}\\u003cbr\\u003e1=%{y}\\u003cbr\\u003e2=%{z}\\u003cextra\\u003e\\u003c\\u002fextra\\u003e\",\"legendgroup\":\"open\",\"marker\":{\"color\":\"#FF6692\",\"symbol\":\"circle\"},\"mode\":\"markers\",\"name\":\"open\",\"scene\":\"scene\",\"showlegend\":true,\"x\":[0.55860215],\"y\":[-0.032651946],\"z\":[-0.03213814],\"type\":\"scatter3d\"},{\"hovertemplate\":\"color=rose\\u003cbr\\u003e0=%{x}\\u003cbr\\u003e1=%{y}\\u003cbr\\u003e2=%{z}\\u003cextra\\u003e\\u003c\\u002fextra\\u003e\",\"legendgroup\":\"rose\",\"marker\":{\"color\":\"#B6E880\",\"symbol\":\"circle\"},\"mode\":\"markers\",\"name\":\"rose\",\"scene\":\"scene\",\"showlegend\":true,\"x\":[0.64566797],\"y\":[0.35001454],\"z\":[-0.19514585],\"type\":\"scatter3d\"},{\"hovertemplate\":\"color=death\\u003cbr\\u003e0=%{x}\\u003cbr\\u003e1=%{y}\\u003cbr\\u003e2=%{z}\\u003cextra\\u003e\\u003c\\u002fextra\\u003e\",\"legendgroup\":\"death\",\"marker\":{\"color\":\"#FF97FF\",\"symbol\":\"circle\"},\"mode\":\"markers\",\"name\":\"death\",\"scene\":\"scene\",\"showlegend\":true,\"x\":[-0.50014794],\"y\":[0.060686074],\"z\":[0.27710718],\"type\":\"scatter3d\"},{\"hovertemplate\":\"color=hot\\u003cbr\\u003e0=%{x}\\u003cbr\\u003e1=%{y}\\u003cbr\\u003e2=%{z}\\u003cextra\\u003e\\u003c\\u002fextra\\u003e\",\"legendgroup\":\"hot\",\"marker\":{\"color\":\"#FECB52\",\"symbol\":\"circle\"},\"mode\":\"markers\",\"name\":\"hot\",\"scene\":\"scene\",\"showlegend\":true,\"x\":[0.44081846],\"y\":[-0.47808808],\"z\":[0.32269543],\"type\":\"scatter3d\"},{\"hovertemplate\":\"color=fell\\u003cbr\\u003e0=%{x}\\u003cbr\\u003e1=%{y}\\u003cbr\\u003e2=%{z}\\u003cextra\\u003e\\u003c\\u002fextra\\u003e\",\"legendgroup\":\"fell\",\"marker\":{\"color\":\"#636efa\",\"symbol\":\"circle\"},\"mode\":\"markers\",\"name\":\"fell\",\"scene\":\"scene\",\"showlegend\":true,\"x\":[0.5987153],\"y\":[0.1274383],\"z\":[-0.17526509],\"type\":\"scatter3d\"},{\"hovertemplate\":\"color=golden\\u003cbr\\u003e0=%{x}\\u003cbr\\u003e1=%{y}\\u003cbr\\u003e2=%{z}\\u003cextra\\u003e\\u003c\\u002fextra\\u003e\",\"legendgroup\":\"golden\",\"marker\":{\"color\":\"#EF553B\",\"symbol\":\"circle\"},\"mode\":\"markers\",\"name\":\"golden\",\"scene\":\"scene\",\"showlegend\":true,\"x\":[0.45384818],\"y\":[0.4926074],\"z\":[-0.40774876],\"type\":\"scatter3d\"},{\"hovertemplate\":\"color=without\\u003cbr\\u003e0=%{x}\\u003cbr\\u003e1=%{y}\\u003cbr\\u003e2=%{z}\\u003cextra\\u003e\\u003c\\u002fextra\\u003e\",\"legendgroup\":\"without\",\"marker\":{\"color\":\"#00cc96\",\"symbol\":\"circle\"},\"mode\":\"markers\",\"name\":\"without\",\"scene\":\"scene\",\"showlegend\":true,\"x\":[-0.47273588],\"y\":[0.010916613],\"z\":[0.36428213],\"type\":\"scatter3d\"},{\"hovertemplate\":\"color=river\\u003cbr\\u003e0=%{x}\\u003cbr\\u003e1=%{y}\\u003cbr\\u003e2=%{z}\\u003cextra\\u003e\\u003c\\u002fextra\\u003e\",\"legendgroup\":\"river\",\"marker\":{\"color\":\"#ab63fa\",\"symbol\":\"circle\"},\"mode\":\"markers\",\"name\":\"river\",\"scene\":\"scene\",\"showlegend\":true,\"x\":[0.42692187],\"y\":[0.5069963],\"z\":[0.35730416],\"type\":\"scatter3d\"},{\"hovertemplate\":\"color=dragons\\u003cbr\\u003e0=%{x}\\u003cbr\\u003e1=%{y}\\u003cbr\\u003e2=%{z}\\u003cextra\\u003e\\u003c\\u002fextra\\u003e\",\"legendgroup\":\"dragons\",\"marker\":{\"color\":\"#FFA15A\",\"symbol\":\"circle\"},\"mode\":\"markers\",\"name\":\"dragons\",\"scene\":\"scene\",\"showlegend\":true,\"x\":[-0.1939327],\"y\":[0.35277098],\"z\":[0.42101103],\"type\":\"scatter3d\"},{\"hovertemplate\":\"color=uncle\\u003cbr\\u003e0=%{x}\\u003cbr\\u003e1=%{y}\\u003cbr\\u003e2=%{z}\\u003cextra\\u003e\\u003c\\u002fextra\\u003e\",\"legendgroup\":\"uncle\",\"marker\":{\"color\":\"#19d3f3\",\"symbol\":\"circle\"},\"mode\":\"markers\",\"name\":\"uncle\",\"scene\":\"scene\",\"showlegend\":true,\"x\":[-0.6646355],\"y\":[0.36776954],\"z\":[-0.39168537],\"type\":\"scatter3d\"},{\"hovertemplate\":\"color=brown\\u003cbr\\u003e0=%{x}\\u003cbr\\u003e1=%{y}\\u003cbr\\u003e2=%{z}\\u003cextra\\u003e\\u003c\\u002fextra\\u003e\",\"legendgroup\":\"brown\",\"marker\":{\"color\":\"#FF6692\",\"symbol\":\"circle\"},\"mode\":\"markers\",\"name\":\"brown\",\"scene\":\"scene\",\"showlegend\":true,\"x\":[0.5909225],\"y\":[0.023925282],\"z\":[-0.30134445],\"type\":\"scatter3d\"},{\"hovertemplate\":\"color=bastard\\u003cbr\\u003e0=%{x}\\u003cbr\\u003e1=%{y}\\u003cbr\\u003e2=%{z}\\u003cextra\\u003e\\u003c\\u002fextra\\u003e\",\"legendgroup\":\"bastard\",\"marker\":{\"color\":\"#B6E880\",\"symbol\":\"circle\"},\"mode\":\"markers\",\"name\":\"bastard\",\"scene\":\"scene\",\"showlegend\":true,\"x\":[-0.5804389],\"y\":[0.40694845],\"z\":[-0.38927305],\"type\":\"scatter3d\"},{\"hovertemplate\":\"color=speak\\u003cbr\\u003e0=%{x}\\u003cbr\\u003e1=%{y}\\u003cbr\\u003e2=%{z}\\u003cextra\\u003e\\u003c\\u002fextra\\u003e\",\"legendgroup\":\"speak\",\"marker\":{\"color\":\"#FF97FF\",\"symbol\":\"circle\"},\"mode\":\"markers\",\"name\":\"speak\",\"scene\":\"scene\",\"showlegend\":true,\"x\":[-0.67359996],\"y\":[-0.16130082],\"z\":[0.09659892],\"type\":\"scatter3d\"},{\"hovertemplate\":\"color=sleep\\u003cbr\\u003e0=%{x}\\u003cbr\\u003e1=%{y}\\u003cbr\\u003e2=%{z}\\u003cextra\\u003e\\u003c\\u002fextra\\u003e\",\"legendgroup\":\"sleep\",\"marker\":{\"color\":\"#FECB52\",\"symbol\":\"circle\"},\"mode\":\"markers\",\"name\":\"sleep\",\"scene\":\"scene\",\"showlegend\":true,\"x\":[0.0008250121],\"y\":[-0.46693522],\"z\":[0.35026667],\"type\":\"scatter3d\"},{\"hovertemplate\":\"color=swords\\u003cbr\\u003e0=%{x}\\u003cbr\\u003e1=%{y}\\u003cbr\\u003e2=%{z}\\u003cextra\\u003e\\u003c\\u002fextra\\u003e\",\"legendgroup\":\"swords\",\"marker\":{\"color\":\"#636efa\",\"symbol\":\"circle\"},\"mode\":\"markers\",\"name\":\"swords\",\"scene\":\"scene\",\"showlegend\":true,\"x\":[-0.05273491],\"y\":[0.7447812],\"z\":[0.19670287],\"type\":\"scatter3d\"},{\"hovertemplate\":\"color=feel\\u003cbr\\u003e0=%{x}\\u003cbr\\u003e1=%{y}\\u003cbr\\u003e2=%{z}\\u003cextra\\u003e\\u003c\\u002fextra\\u003e\",\"legendgroup\":\"feel\",\"marker\":{\"color\":\"#EF553B\",\"symbol\":\"circle\"},\"mode\":\"markers\",\"name\":\"feel\",\"scene\":\"scene\",\"showlegend\":true,\"x\":[0.24690698],\"y\":[-0.50184816],\"z\":[0.20606887],\"type\":\"scatter3d\"},{\"hovertemplate\":\"color=war\\u003cbr\\u003e0=%{x}\\u003cbr\\u003e1=%{y}\\u003cbr\\u003e2=%{z}\\u003cextra\\u003e\\u003c\\u002fextra\\u003e\",\"legendgroup\":\"war\",\"marker\":{\"color\":\"#00cc96\",\"symbol\":\"circle\"},\"mode\":\"markers\",\"name\":\"war\",\"scene\":\"scene\",\"showlegend\":true,\"x\":[-0.55875593],\"y\":[0.6012099],\"z\":[0.21549216],\"type\":\"scatter3d\"},{\"hovertemplate\":\"color=got\\u003cbr\\u003e0=%{x}\\u003cbr\\u003e1=%{y}\\u003cbr\\u003e2=%{z}\\u003cextra\\u003e\\u003c\\u002fextra\\u003e\",\"legendgroup\":\"got\",\"marker\":{\"color\":\"#ab63fa\",\"symbol\":\"circle\"},\"mode\":\"markers\",\"name\":\"got\",\"scene\":\"scene\",\"showlegend\":true,\"x\":[0.029413505],\"y\":[-0.29387695],\"z\":[0.124108255],\"type\":\"scatter3d\"},{\"hovertemplate\":\"color=wolf\\u003cbr\\u003e0=%{x}\\u003cbr\\u003e1=%{y}\\u003cbr\\u003e2=%{z}\\u003cextra\\u003e\\u003c\\u002fextra\\u003e\",\"legendgroup\":\"wolf\",\"marker\":{\"color\":\"#FFA15A\",\"symbol\":\"circle\"},\"mode\":\"markers\",\"name\":\"wolf\",\"scene\":\"scene\",\"showlegend\":true,\"x\":[0.069402285],\"y\":[-0.22215723],\"z\":[0.059314057],\"type\":\"scatter3d\"},{\"hovertemplate\":\"color=certain\\u003cbr\\u003e0=%{x}\\u003cbr\\u003e1=%{y}\\u003cbr\\u003e2=%{z}\\u003cextra\\u003e\\u003c\\u002fextra\\u003e\",\"legendgroup\":\"certain\",\"marker\":{\"color\":\"#19d3f3\",\"symbol\":\"circle\"},\"mode\":\"markers\",\"name\":\"certain\",\"scene\":\"scene\",\"showlegend\":true,\"x\":[-0.6041058],\"y\":[-0.16348682],\"z\":[0.22147405],\"type\":\"scatter3d\"},{\"hovertemplate\":\"color=full\\u003cbr\\u003e0=%{x}\\u003cbr\\u003e1=%{y}\\u003cbr\\u003e2=%{z}\\u003cextra\\u003e\\u003c\\u002fextra\\u003e\",\"legendgroup\":\"full\",\"marker\":{\"color\":\"#FF6692\",\"symbol\":\"circle\"},\"mode\":\"markers\",\"name\":\"full\",\"scene\":\"scene\",\"showlegend\":true,\"x\":[0.41436586],\"y\":[-0.11219041],\"z\":[0.37516648],\"type\":\"scatter3d\"},{\"hovertemplate\":\"color=rode\\u003cbr\\u003e0=%{x}\\u003cbr\\u003e1=%{y}\\u003cbr\\u003e2=%{z}\\u003cextra\\u003e\\u003c\\u002fextra\\u003e\",\"legendgroup\":\"rode\",\"marker\":{\"color\":\"#B6E880\",\"symbol\":\"circle\"},\"mode\":\"markers\",\"name\":\"rode\",\"scene\":\"scene\",\"showlegend\":true,\"x\":[0.32922354],\"y\":[0.6493526],\"z\":[-0.10943709],\"type\":\"scatter3d\"},{\"hovertemplate\":\"color=silver\\u003cbr\\u003e0=%{x}\\u003cbr\\u003e1=%{y}\\u003cbr\\u003e2=%{z}\\u003cextra\\u003e\\u003c\\u002fextra\\u003e\",\"legendgroup\":\"silver\",\"marker\":{\"color\":\"#FF97FF\",\"symbol\":\"circle\"},\"mode\":\"markers\",\"name\":\"silver\",\"scene\":\"scene\",\"showlegend\":true,\"x\":[0.5291274],\"y\":[0.36595076],\"z\":[-0.26748514],\"type\":\"scatter3d\"},{\"hovertemplate\":\"color=four\\u003cbr\\u003e0=%{x}\\u003cbr\\u003e1=%{y}\\u003cbr\\u003e2=%{z}\\u003cextra\\u003e\\u003c\\u002fextra\\u003e\",\"legendgroup\":\"four\",\"marker\":{\"color\":\"#FECB52\",\"symbol\":\"circle\"},\"mode\":\"markers\",\"name\":\"four\",\"scene\":\"scene\",\"showlegend\":true,\"x\":[0.082158215],\"y\":[0.7103423],\"z\":[0.08980657],\"type\":\"scatter3d\"},{\"hovertemplate\":\"color=renly\\u003cbr\\u003e0=%{x}\\u003cbr\\u003e1=%{y}\\u003cbr\\u003e2=%{z}\\u003cextra\\u003e\\u003c\\u002fextra\\u003e\",\"legendgroup\":\"renly\",\"marker\":{\"color\":\"#636efa\",\"symbol\":\"circle\"},\"mode\":\"markers\",\"name\":\"renly\",\"scene\":\"scene\",\"showlegend\":true,\"x\":[-0.5084298],\"y\":[0.4196232],\"z\":[-0.39092875],\"type\":\"scatter3d\"},{\"hovertemplate\":\"color=fight\\u003cbr\\u003e0=%{x}\\u003cbr\\u003e1=%{y}\\u003cbr\\u003e2=%{z}\\u003cextra\\u003e\\u003c\\u002fextra\\u003e\",\"legendgroup\":\"fight\",\"marker\":{\"color\":\"#EF553B\",\"symbol\":\"circle\"},\"mode\":\"markers\",\"name\":\"fight\",\"scene\":\"scene\",\"showlegend\":true,\"x\":[-0.4822742],\"y\":[0.053711317],\"z\":[0.42698276],\"type\":\"scatter3d\"},{\"hovertemplate\":\"color=legs\\u003cbr\\u003e0=%{x}\\u003cbr\\u003e1=%{y}\\u003cbr\\u003e2=%{z}\\u003cextra\\u003e\\u003c\\u002fextra\\u003e\",\"legendgroup\":\"legs\",\"marker\":{\"color\":\"#00cc96\",\"symbol\":\"circle\"},\"mode\":\"markers\",\"name\":\"legs\",\"scene\":\"scene\",\"showlegend\":true,\"x\":[0.69574046],\"y\":[-0.24305956],\"z\":[0.011045605],\"type\":\"scatter3d\"},{\"hovertemplate\":\"color=thick\\u003cbr\\u003e0=%{x}\\u003cbr\\u003e1=%{y}\\u003cbr\\u003e2=%{z}\\u003cextra\\u003e\\u003c\\u002fextra\\u003e\",\"legendgroup\":\"thick\",\"marker\":{\"color\":\"#ab63fa\",\"symbol\":\"circle\"},\"mode\":\"markers\",\"name\":\"thick\",\"scene\":\"scene\",\"showlegend\":true,\"x\":[0.76302594],\"y\":[0.08069442],\"z\":[-0.061159037],\"type\":\"scatter3d\"},{\"hovertemplate\":\"color=throat\\u003cbr\\u003e0=%{x}\\u003cbr\\u003e1=%{y}\\u003cbr\\u003e2=%{z}\\u003cextra\\u003e\\u003c\\u002fextra\\u003e\",\"legendgroup\":\"throat\",\"marker\":{\"color\":\"#FFA15A\",\"symbol\":\"circle\"},\"mode\":\"markers\",\"name\":\"throat\",\"scene\":\"scene\",\"showlegend\":true,\"x\":[0.51362103],\"y\":[-0.47491914],\"z\":[-0.28307253],\"type\":\"scatter3d\"},{\"hovertemplate\":\"color=call\\u003cbr\\u003e0=%{x}\\u003cbr\\u003e1=%{y}\\u003cbr\\u003e2=%{z}\\u003cextra\\u003e\\u003c\\u002fextra\\u003e\",\"legendgroup\":\"call\",\"marker\":{\"color\":\"#19d3f3\",\"symbol\":\"circle\"},\"mode\":\"markers\",\"name\":\"call\",\"scene\":\"scene\",\"showlegend\":true,\"x\":[-0.6511664],\"y\":[-0.042594075],\"z\":[0.08433896],\"type\":\"scatter3d\"},{\"hovertemplate\":\"color=tongue\\u003cbr\\u003e0=%{x}\\u003cbr\\u003e1=%{y}\\u003cbr\\u003e2=%{z}\\u003cextra\\u003e\\u003c\\u002fextra\\u003e\",\"legendgroup\":\"tongue\",\"marker\":{\"color\":\"#FF6692\",\"symbol\":\"circle\"},\"mode\":\"markers\",\"name\":\"tongue\",\"scene\":\"scene\",\"showlegend\":true,\"x\":[-0.1101567],\"y\":[-0.48583782],\"z\":[-0.006525323],\"type\":\"scatter3d\"},{\"hovertemplate\":\"color=world\\u003cbr\\u003e0=%{x}\\u003cbr\\u003e1=%{y}\\u003cbr\\u003e2=%{z}\\u003cextra\\u003e\\u003c\\u002fextra\\u003e\",\"legendgroup\":\"world\",\"marker\":{\"color\":\"#B6E880\",\"symbol\":\"circle\"},\"mode\":\"markers\",\"name\":\"world\",\"scene\":\"scene\",\"showlegend\":true,\"x\":[0.047667064],\"y\":[0.09715642],\"z\":[0.65615773],\"type\":\"scatter3d\"},{\"hovertemplate\":\"color=set\\u003cbr\\u003e0=%{x}\\u003cbr\\u003e1=%{y}\\u003cbr\\u003e2=%{z}\\u003cextra\\u003e\\u003c\\u002fextra\\u003e\",\"legendgroup\":\"set\",\"marker\":{\"color\":\"#FF97FF\",\"symbol\":\"circle\"},\"mode\":\"markers\",\"name\":\"set\",\"scene\":\"scene\",\"showlegend\":true,\"x\":[0.30532902],\"y\":[0.41575843],\"z\":[0.103889614],\"type\":\"scatter3d\"},{\"hovertemplate\":\"color=please\\u003cbr\\u003e0=%{x}\\u003cbr\\u003e1=%{y}\\u003cbr\\u003e2=%{z}\\u003cextra\\u003e\\u003c\\u002fextra\\u003e\",\"legendgroup\":\"please\",\"marker\":{\"color\":\"#FECB52\",\"symbol\":\"circle\"},\"mode\":\"markers\",\"name\":\"please\",\"scene\":\"scene\",\"showlegend\":true,\"x\":[-0.6728263],\"y\":[-0.23639338],\"z\":[-0.07723501],\"type\":\"scatter3d\"},{\"hovertemplate\":\"color=trees\\u003cbr\\u003e0=%{x}\\u003cbr\\u003e1=%{y}\\u003cbr\\u003e2=%{z}\\u003cextra\\u003e\\u003c\\u002fextra\\u003e\",\"legendgroup\":\"trees\",\"marker\":{\"color\":\"#636efa\",\"symbol\":\"circle\"},\"mode\":\"markers\",\"name\":\"trees\",\"scene\":\"scene\",\"showlegend\":true,\"x\":[0.68237233],\"y\":[0.1688728],\"z\":[0.31620735],\"type\":\"scatter3d\"},{\"hovertemplate\":\"color=sun\\u003cbr\\u003e0=%{x}\\u003cbr\\u003e1=%{y}\\u003cbr\\u003e2=%{z}\\u003cextra\\u003e\\u003c\\u002fextra\\u003e\",\"legendgroup\":\"sun\",\"marker\":{\"color\":\"#EF553B\",\"symbol\":\"circle\"},\"mode\":\"markers\",\"name\":\"sun\",\"scene\":\"scene\",\"showlegend\":true,\"x\":[0.55642474],\"y\":[0.2061514],\"z\":[0.32931185],\"type\":\"scatter3d\"},{\"hovertemplate\":\"color=send\\u003cbr\\u003e0=%{x}\\u003cbr\\u003e1=%{y}\\u003cbr\\u003e2=%{z}\\u003cextra\\u003e\\u003c\\u002fextra\\u003e\",\"legendgroup\":\"send\",\"marker\":{\"color\":\"#00cc96\",\"symbol\":\"circle\"},\"mode\":\"markers\",\"name\":\"send\",\"scene\":\"scene\",\"showlegend\":true,\"x\":[-0.5259336],\"y\":[0.09878474],\"z\":[0.10165836],\"type\":\"scatter3d\"},{\"hovertemplate\":\"color=pulled\\u003cbr\\u003e0=%{x}\\u003cbr\\u003e1=%{y}\\u003cbr\\u003e2=%{z}\\u003cextra\\u003e\\u003c\\u002fextra\\u003e\",\"legendgroup\":\"pulled\",\"marker\":{\"color\":\"#ab63fa\",\"symbol\":\"circle\"},\"mode\":\"markers\",\"name\":\"pulled\",\"scene\":\"scene\",\"showlegend\":true,\"x\":[0.62898344],\"y\":[-0.07567528],\"z\":[-0.3960912],\"type\":\"scatter3d\"},{\"hovertemplate\":\"color=table\\u003cbr\\u003e0=%{x}\\u003cbr\\u003e1=%{y}\\u003cbr\\u003e2=%{z}\\u003cextra\\u003e\\u003c\\u002fextra\\u003e\",\"legendgroup\":\"table\",\"marker\":{\"color\":\"#FFA15A\",\"symbol\":\"circle\"},\"mode\":\"markers\",\"name\":\"table\",\"scene\":\"scene\",\"showlegend\":true,\"x\":[0.41367635],\"y\":[0.24873415],\"z\":[-0.43618697],\"type\":\"scatter3d\"},{\"hovertemplate\":\"color=fool\\u003cbr\\u003e0=%{x}\\u003cbr\\u003e1=%{y}\\u003cbr\\u003e2=%{z}\\u003cextra\\u003e\\u003c\\u002fextra\\u003e\",\"legendgroup\":\"fool\",\"marker\":{\"color\":\"#19d3f3\",\"symbol\":\"circle\"},\"mode\":\"markers\",\"name\":\"fool\",\"scene\":\"scene\",\"showlegend\":true,\"x\":[-0.5883631],\"y\":[-0.1923203],\"z\":[-0.21159428],\"type\":\"scatter3d\"},{\"hovertemplate\":\"color=tall\\u003cbr\\u003e0=%{x}\\u003cbr\\u003e1=%{y}\\u003cbr\\u003e2=%{z}\\u003cextra\\u003e\\u003c\\u002fextra\\u003e\",\"legendgroup\":\"tall\",\"marker\":{\"color\":\"#FF6692\",\"symbol\":\"circle\"},\"mode\":\"markers\",\"name\":\"tall\",\"scene\":\"scene\",\"showlegend\":true,\"x\":[0.55164367],\"y\":[0.49647748],\"z\":[-0.19822626],\"type\":\"scatter3d\"},{\"hovertemplate\":\"color=steps\\u003cbr\\u003e0=%{x}\\u003cbr\\u003e1=%{y}\\u003cbr\\u003e2=%{z}\\u003cextra\\u003e\\u003c\\u002fextra\\u003e\",\"legendgroup\":\"steps\",\"marker\":{\"color\":\"#B6E880\",\"symbol\":\"circle\"},\"mode\":\"markers\",\"name\":\"steps\",\"scene\":\"scene\",\"showlegend\":true,\"x\":[0.603453],\"y\":[0.28340638],\"z\":[0.13497043],\"type\":\"scatter3d\"},{\"hovertemplate\":\"color=broken\\u003cbr\\u003e0=%{x}\\u003cbr\\u003e1=%{y}\\u003cbr\\u003e2=%{z}\\u003cextra\\u003e\\u003c\\u002fextra\\u003e\",\"legendgroup\":\"broken\",\"marker\":{\"color\":\"#FF97FF\",\"symbol\":\"circle\"},\"mode\":\"markers\",\"name\":\"broken\",\"scene\":\"scene\",\"showlegend\":true,\"x\":[0.72007936],\"y\":[0.18662456],\"z\":[0.11099571],\"type\":\"scatter3d\"},{\"hovertemplate\":\"color=honor\\u003cbr\\u003e0=%{x}\\u003cbr\\u003e1=%{y}\\u003cbr\\u003e2=%{z}\\u003cextra\\u003e\\u003c\\u002fextra\\u003e\",\"legendgroup\":\"honor\",\"marker\":{\"color\":\"#FECB52\",\"symbol\":\"circle\"},\"mode\":\"markers\",\"name\":\"honor\",\"scene\":\"scene\",\"showlegend\":true,\"x\":[-0.7203115],\"y\":[0.39028263],\"z\":[-0.15681499],\"type\":\"scatter3d\"}],                        {\"template\":{\"data\":{\"histogram2dcontour\":[{\"type\":\"histogram2dcontour\",\"colorbar\":{\"outlinewidth\":0,\"ticks\":\"\"},\"colorscale\":[[0.0,\"#0d0887\"],[0.1111111111111111,\"#46039f\"],[0.2222222222222222,\"#7201a8\"],[0.3333333333333333,\"#9c179e\"],[0.4444444444444444,\"#bd3786\"],[0.5555555555555556,\"#d8576b\"],[0.6666666666666666,\"#ed7953\"],[0.7777777777777778,\"#fb9f3a\"],[0.8888888888888888,\"#fdca26\"],[1.0,\"#f0f921\"]]}],\"choropleth\":[{\"type\":\"choropleth\",\"colorbar\":{\"outlinewidth\":0,\"ticks\":\"\"}}],\"histogram2d\":[{\"type\":\"histogram2d\",\"colorbar\":{\"outlinewidth\":0,\"ticks\":\"\"},\"colorscale\":[[0.0,\"#0d0887\"],[0.1111111111111111,\"#46039f\"],[0.2222222222222222,\"#7201a8\"],[0.3333333333333333,\"#9c179e\"],[0.4444444444444444,\"#bd3786\"],[0.5555555555555556,\"#d8576b\"],[0.6666666666666666,\"#ed7953\"],[0.7777777777777778,\"#fb9f3a\"],[0.8888888888888888,\"#fdca26\"],[1.0,\"#f0f921\"]]}],\"heatmap\":[{\"type\":\"heatmap\",\"colorbar\":{\"outlinewidth\":0,\"ticks\":\"\"},\"colorscale\":[[0.0,\"#0d0887\"],[0.1111111111111111,\"#46039f\"],[0.2222222222222222,\"#7201a8\"],[0.3333333333333333,\"#9c179e\"],[0.4444444444444444,\"#bd3786\"],[0.5555555555555556,\"#d8576b\"],[0.6666666666666666,\"#ed7953\"],[0.7777777777777778,\"#fb9f3a\"],[0.8888888888888888,\"#fdca26\"],[1.0,\"#f0f921\"]]}],\"heatmapgl\":[{\"type\":\"heatmapgl\",\"colorbar\":{\"outlinewidth\":0,\"ticks\":\"\"},\"colorscale\":[[0.0,\"#0d0887\"],[0.1111111111111111,\"#46039f\"],[0.2222222222222222,\"#7201a8\"],[0.3333333333333333,\"#9c179e\"],[0.4444444444444444,\"#bd3786\"],[0.5555555555555556,\"#d8576b\"],[0.6666666666666666,\"#ed7953\"],[0.7777777777777778,\"#fb9f3a\"],[0.8888888888888888,\"#fdca26\"],[1.0,\"#f0f921\"]]}],\"contourcarpet\":[{\"type\":\"contourcarpet\",\"colorbar\":{\"outlinewidth\":0,\"ticks\":\"\"}}],\"contour\":[{\"type\":\"contour\",\"colorbar\":{\"outlinewidth\":0,\"ticks\":\"\"},\"colorscale\":[[0.0,\"#0d0887\"],[0.1111111111111111,\"#46039f\"],[0.2222222222222222,\"#7201a8\"],[0.3333333333333333,\"#9c179e\"],[0.4444444444444444,\"#bd3786\"],[0.5555555555555556,\"#d8576b\"],[0.6666666666666666,\"#ed7953\"],[0.7777777777777778,\"#fb9f3a\"],[0.8888888888888888,\"#fdca26\"],[1.0,\"#f0f921\"]]}],\"surface\":[{\"type\":\"surface\",\"colorbar\":{\"outlinewidth\":0,\"ticks\":\"\"},\"colorscale\":[[0.0,\"#0d0887\"],[0.1111111111111111,\"#46039f\"],[0.2222222222222222,\"#7201a8\"],[0.3333333333333333,\"#9c179e\"],[0.4444444444444444,\"#bd3786\"],[0.5555555555555556,\"#d8576b\"],[0.6666666666666666,\"#ed7953\"],[0.7777777777777778,\"#fb9f3a\"],[0.8888888888888888,\"#fdca26\"],[1.0,\"#f0f921\"]]}],\"mesh3d\":[{\"type\":\"mesh3d\",\"colorbar\":{\"outlinewidth\":0,\"ticks\":\"\"}}],\"scatter\":[{\"fillpattern\":{\"fillmode\":\"overlay\",\"size\":10,\"solidity\":0.2},\"type\":\"scatter\"}],\"parcoords\":[{\"type\":\"parcoords\",\"line\":{\"colorbar\":{\"outlinewidth\":0,\"ticks\":\"\"}}}],\"scatterpolargl\":[{\"type\":\"scatterpolargl\",\"marker\":{\"colorbar\":{\"outlinewidth\":0,\"ticks\":\"\"}}}],\"bar\":[{\"error_x\":{\"color\":\"#2a3f5f\"},\"error_y\":{\"color\":\"#2a3f5f\"},\"marker\":{\"line\":{\"color\":\"#E5ECF6\",\"width\":0.5},\"pattern\":{\"fillmode\":\"overlay\",\"size\":10,\"solidity\":0.2}},\"type\":\"bar\"}],\"scattergeo\":[{\"type\":\"scattergeo\",\"marker\":{\"colorbar\":{\"outlinewidth\":0,\"ticks\":\"\"}}}],\"scatterpolar\":[{\"type\":\"scatterpolar\",\"marker\":{\"colorbar\":{\"outlinewidth\":0,\"ticks\":\"\"}}}],\"histogram\":[{\"marker\":{\"pattern\":{\"fillmode\":\"overlay\",\"size\":10,\"solidity\":0.2}},\"type\":\"histogram\"}],\"scattergl\":[{\"type\":\"scattergl\",\"marker\":{\"colorbar\":{\"outlinewidth\":0,\"ticks\":\"\"}}}],\"scatter3d\":[{\"type\":\"scatter3d\",\"line\":{\"colorbar\":{\"outlinewidth\":0,\"ticks\":\"\"}},\"marker\":{\"colorbar\":{\"outlinewidth\":0,\"ticks\":\"\"}}}],\"scattermapbox\":[{\"type\":\"scattermapbox\",\"marker\":{\"colorbar\":{\"outlinewidth\":0,\"ticks\":\"\"}}}],\"scatterternary\":[{\"type\":\"scatterternary\",\"marker\":{\"colorbar\":{\"outlinewidth\":0,\"ticks\":\"\"}}}],\"scattercarpet\":[{\"type\":\"scattercarpet\",\"marker\":{\"colorbar\":{\"outlinewidth\":0,\"ticks\":\"\"}}}],\"carpet\":[{\"aaxis\":{\"endlinecolor\":\"#2a3f5f\",\"gridcolor\":\"white\",\"linecolor\":\"white\",\"minorgridcolor\":\"white\",\"startlinecolor\":\"#2a3f5f\"},\"baxis\":{\"endlinecolor\":\"#2a3f5f\",\"gridcolor\":\"white\",\"linecolor\":\"white\",\"minorgridcolor\":\"white\",\"startlinecolor\":\"#2a3f5f\"},\"type\":\"carpet\"}],\"table\":[{\"cells\":{\"fill\":{\"color\":\"#EBF0F8\"},\"line\":{\"color\":\"white\"}},\"header\":{\"fill\":{\"color\":\"#C8D4E3\"},\"line\":{\"color\":\"white\"}},\"type\":\"table\"}],\"barpolar\":[{\"marker\":{\"line\":{\"color\":\"#E5ECF6\",\"width\":0.5},\"pattern\":{\"fillmode\":\"overlay\",\"size\":10,\"solidity\":0.2}},\"type\":\"barpolar\"}],\"pie\":[{\"automargin\":true,\"type\":\"pie\"}]},\"layout\":{\"autotypenumbers\":\"strict\",\"colorway\":[\"#636efa\",\"#EF553B\",\"#00cc96\",\"#ab63fa\",\"#FFA15A\",\"#19d3f3\",\"#FF6692\",\"#B6E880\",\"#FF97FF\",\"#FECB52\"],\"font\":{\"color\":\"#2a3f5f\"},\"hovermode\":\"closest\",\"hoverlabel\":{\"align\":\"left\"},\"paper_bgcolor\":\"white\",\"plot_bgcolor\":\"#E5ECF6\",\"polar\":{\"bgcolor\":\"#E5ECF6\",\"angularaxis\":{\"gridcolor\":\"white\",\"linecolor\":\"white\",\"ticks\":\"\"},\"radialaxis\":{\"gridcolor\":\"white\",\"linecolor\":\"white\",\"ticks\":\"\"}},\"ternary\":{\"bgcolor\":\"#E5ECF6\",\"aaxis\":{\"gridcolor\":\"white\",\"linecolor\":\"white\",\"ticks\":\"\"},\"baxis\":{\"gridcolor\":\"white\",\"linecolor\":\"white\",\"ticks\":\"\"},\"caxis\":{\"gridcolor\":\"white\",\"linecolor\":\"white\",\"ticks\":\"\"}},\"coloraxis\":{\"colorbar\":{\"outlinewidth\":0,\"ticks\":\"\"}},\"colorscale\":{\"sequential\":[[0.0,\"#0d0887\"],[0.1111111111111111,\"#46039f\"],[0.2222222222222222,\"#7201a8\"],[0.3333333333333333,\"#9c179e\"],[0.4444444444444444,\"#bd3786\"],[0.5555555555555556,\"#d8576b\"],[0.6666666666666666,\"#ed7953\"],[0.7777777777777778,\"#fb9f3a\"],[0.8888888888888888,\"#fdca26\"],[1.0,\"#f0f921\"]],\"sequentialminus\":[[0.0,\"#0d0887\"],[0.1111111111111111,\"#46039f\"],[0.2222222222222222,\"#7201a8\"],[0.3333333333333333,\"#9c179e\"],[0.4444444444444444,\"#bd3786\"],[0.5555555555555556,\"#d8576b\"],[0.6666666666666666,\"#ed7953\"],[0.7777777777777778,\"#fb9f3a\"],[0.8888888888888888,\"#fdca26\"],[1.0,\"#f0f921\"]],\"diverging\":[[0,\"#8e0152\"],[0.1,\"#c51b7d\"],[0.2,\"#de77ae\"],[0.3,\"#f1b6da\"],[0.4,\"#fde0ef\"],[0.5,\"#f7f7f7\"],[0.6,\"#e6f5d0\"],[0.7,\"#b8e186\"],[0.8,\"#7fbc41\"],[0.9,\"#4d9221\"],[1,\"#276419\"]]},\"xaxis\":{\"gridcolor\":\"white\",\"linecolor\":\"white\",\"ticks\":\"\",\"title\":{\"standoff\":15},\"zerolinecolor\":\"white\",\"automargin\":true,\"zerolinewidth\":2},\"yaxis\":{\"gridcolor\":\"white\",\"linecolor\":\"white\",\"ticks\":\"\",\"title\":{\"standoff\":15},\"zerolinecolor\":\"white\",\"automargin\":true,\"zerolinewidth\":2},\"scene\":{\"xaxis\":{\"backgroundcolor\":\"#E5ECF6\",\"gridcolor\":\"white\",\"linecolor\":\"white\",\"showbackground\":true,\"ticks\":\"\",\"zerolinecolor\":\"white\",\"gridwidth\":2},\"yaxis\":{\"backgroundcolor\":\"#E5ECF6\",\"gridcolor\":\"white\",\"linecolor\":\"white\",\"showbackground\":true,\"ticks\":\"\",\"zerolinecolor\":\"white\",\"gridwidth\":2},\"zaxis\":{\"backgroundcolor\":\"#E5ECF6\",\"gridcolor\":\"white\",\"linecolor\":\"white\",\"showbackground\":true,\"ticks\":\"\",\"zerolinecolor\":\"white\",\"gridwidth\":2}},\"shapedefaults\":{\"line\":{\"color\":\"#2a3f5f\"}},\"annotationdefaults\":{\"arrowcolor\":\"#2a3f5f\",\"arrowhead\":0,\"arrowwidth\":1},\"geo\":{\"bgcolor\":\"white\",\"landcolor\":\"#E5ECF6\",\"subunitcolor\":\"white\",\"showland\":true,\"showlakes\":true,\"lakecolor\":\"white\"},\"title\":{\"x\":0.05},\"mapbox\":{\"style\":\"light\"}}},\"scene\":{\"domain\":{\"x\":[0.0,1.0],\"y\":[0.0,1.0]},\"xaxis\":{\"title\":{\"text\":\"0\"}},\"yaxis\":{\"title\":{\"text\":\"1\"}},\"zaxis\":{\"title\":{\"text\":\"2\"}}},\"legend\":{\"title\":{\"text\":\"color\"},\"tracegroupgap\":0},\"margin\":{\"t\":60}},                        {\"responsive\": true}                    ).then(function(){\n",
              "                            \n",
              "var gd = document.getElementById('f3012ff0-7778-45c4-9d05-8ebbd7d5abc3');\n",
              "var x = new MutationObserver(function (mutations, observer) {{\n",
              "        var display = window.getComputedStyle(gd).display;\n",
              "        if (!display || display === 'none') {{\n",
              "            console.log([gd, 'removed!']);\n",
              "            Plotly.purge(gd);\n",
              "            observer.disconnect();\n",
              "        }}\n",
              "}});\n",
              "\n",
              "// Listen for the removal of the full notebook cells\n",
              "var notebookContainer = gd.closest('#notebook-container');\n",
              "if (notebookContainer) {{\n",
              "    x.observe(notebookContainer, {childList: true});\n",
              "}}\n",
              "\n",
              "// Listen for the clearing of the current output cell\n",
              "var outputEl = gd.closest('.output');\n",
              "if (outputEl) {{\n",
              "    x.observe(outputEl, {childList: true});\n",
              "}}\n",
              "\n",
              "                        })                };                            </script>        </div>\n",
              "</body>\n",
              "</html>"
            ]
          },
          "metadata": {}
        }
      ],
      "source": [
        "import plotly.express as px\n",
        "fig = px.scatter_3d(X[200:300],x=0,y=1,z=2, color=y[200:300])\n",
        "fig.show()\n"
      ]
    }
  ],
  "metadata": {
    "kernelspec": {
      "display_name": ".venv (3.13.1)",
      "language": "python",
      "name": "python3"
    },
    "language_info": {
      "codemirror_mode": {
        "name": "ipython",
        "version": 3
      },
      "file_extension": ".py",
      "mimetype": "text/x-python",
      "name": "python",
      "nbconvert_exporter": "python",
      "pygments_lexer": "ipython3",
      "version": "3.13.1"
    },
    "colab": {
      "provenance": []
    }
  },
  "nbformat": 4,
  "nbformat_minor": 5
}